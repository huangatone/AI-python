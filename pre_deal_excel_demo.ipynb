{
 "cells": [
  {
   "cell_type": "code",
   "execution_count": 2,
   "metadata": {
    "collapsed": true
   },
   "outputs": [],
   "source": [
    "import pandas as pd\n",
    "import sys\n",
    "import matplotlib.pyplot as plt\n",
    "\n",
    "#open a file\n",
    "excel_file = '/rong/0423.xlsx'\n",
    "xl = pd.read_excel(excel_file)"
   ]
  },
  {
   "cell_type": "code",
   "execution_count": null,
   "metadata": {
    "collapsed": true
   },
   "outputs": [],
   "source": [
    "#list all columns\n",
    "xl.keys()"
   ]
  },
  {
   "cell_type": "code",
   "execution_count": null,
   "metadata": {},
   "outputs": [],
   "source": [
    "#choose useful column and make a new container\n",
    "x3 = xl[['eNodeB Site', 'eCell Sector','Day','PRB Uti']]\n",
    "#x3['week'] = pd.to_datetime(xl['Day']).strftime(\"%U\")\n",
    "\n",
    "#create new column with two columns\n",
    "x3['New_d'] = xl['UPT'].astype(str) + xl['Metric']\n",
    "x3['Group'] = xl['eNodeB Site'].astype(str) + ',' + xl['Metric']\n",
    "x3['Group'] = xl['eNodeB Site'].astype(str) + ',' + xl['eCell Sector'].astype(str) + ',' + xl['Day'].astype(str)\n",
    "#preview new excel container  \n",
    "print (x3.shape)\n",
    "print (x3.shape[0])\n",
    "print(x3.head(20))"
   ]
  },
  {
   "cell_type": "code",
   "execution_count": null,
   "metadata": {
    "collapsed": true
   },
   "outputs": [],
   "source": [
    "import numpy as np\n",
    "\n",
    "#clone a datafarame add week column to datafarame\n",
    "df = pd.DataFrame(x3 )\n",
    "weeks = []\n",
    "\n",
    "#get week index from date\n",
    "for i in x3.index:\n",
    "    dt = pd.to_datetime(x3['Day'][i])\n",
    "    s = dt.strftime(\"%U\")\n",
    "    weeks.append( s)\n",
    "\n",
    "df['week'] = weeks\n",
    "\n",
    "#preview\n",
    "print(df.head)\n",
    "\n",
    "#save to a local file\n",
    "df.to_excel('output123.xlsx')"
   ]
  },
  {
   "cell_type": "code",
   "execution_count": null,
   "metadata": {
    "collapsed": true
   },
   "outputs": [],
   "source": [
    "#get the key words from dataframe\n",
    "print(df['eNodeB Site'].unique())\n",
    "print(df['eCell Sector'].unique())\n",
    "print(df['week'].unique())"
   ]
  }
 ],
 "metadata": {
  "kernelspec": {
   "display_name": "Python 3",
   "language": "python",
   "name": "python3"
  },
  "language_info": {
   "codemirror_mode": {
    "name": "ipython",
    "version": 3
   },
   "file_extension": ".py",
   "mimetype": "text/x-python",
   "name": "python",
   "nbconvert_exporter": "python",
   "pygments_lexer": "ipython3",
   "version": "3.6.3"
  }
 },
 "nbformat": 4,
 "nbformat_minor": 2
}
